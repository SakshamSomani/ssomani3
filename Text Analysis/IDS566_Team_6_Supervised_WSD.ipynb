{
  "cells": [
    {
      "cell_type": "markdown",
      "metadata": {
        "id": "0Nrv6H85omz_"
      },
      "source": [
        "# Supervised WSD\n",
        "1.   Training data consists of words tagged in context with their senses\n",
        "2.   Train per-word classifiers that can tag words in a new unseen data\n",
        "\n",
        "*   Dictionary as an inventory of sense\n",
        "*   Training+Test data\n",
        "*   Feature extraction from a text\n",
        "*   Statistical model\n"
      ]
    },
    {
      "cell_type": "code",
      "execution_count": null,
      "metadata": {
        "colab": {
          "base_uri": "https://localhost:8080/"
        },
        "id": "8HSUJSFUoosL",
        "outputId": "0db77ee1-8d14-4640-e346-7f3a71d8ffd1"
      },
      "outputs": [
        {
          "output_type": "stream",
          "name": "stderr",
          "text": [
            "[nltk_data] Downloading package stopwords to /root/nltk_data...\n",
            "[nltk_data]   Unzipping corpora/stopwords.zip.\n",
            "[nltk_data] Downloading package wordnet to /root/nltk_data...\n",
            "[nltk_data] Downloading package omw-1.4 to /root/nltk_data...\n",
            "[nltk_data] Downloading package averaged_perceptron_tagger to\n",
            "[nltk_data]     /root/nltk_data...\n",
            "[nltk_data]   Unzipping taggers/averaged_perceptron_tagger.zip.\n",
            "[nltk_data] Downloading package punkt to /root/nltk_data...\n",
            "[nltk_data]   Unzipping tokenizers/punkt.zip.\n"
          ]
        }
      ],
      "source": [
        "import re,pickle,pprint\n",
        "import numpy as np\n",
        "import pandas as pd\n",
        "import math, time\n",
        "import nltk\n",
        "nltk.download('stopwords')\n",
        "nltk.download('wordnet')\n",
        "nltk.download('omw-1.4')\n",
        "nltk.download('averaged_perceptron_tagger')\n",
        "nltk.download('punkt')\n",
        "from nltk.corpus import stopwords\n",
        "from nltk.corpus import wordnet\n",
        "from nltk.stem.wordnet import WordNetLemmatizer\n",
        "from nltk import pos_tag, word_tokenize\n",
        "from operator import *\n",
        "from functools import reduce\n",
        "import re, string\n",
        "from string import digits "
      ]
    },
    {
      "cell_type": "markdown",
      "metadata": {
        "id": "NdIw7UYboth6"
      },
      "source": [
        "# Preprocessing"
      ]
    },
    {
      "cell_type": "markdown",
      "metadata": {
        "id": "UY3aS-oZov5v"
      },
      "source": [
        "## Dataset cleanup\n",
        "Clean up the training, validation and test data"
      ]
    },
    {
      "cell_type": "code",
      "execution_count": null,
      "metadata": {
        "id": "aYc2-vkAoyYC"
      },
      "outputs": [],
      "source": [
        "lemma = WordNetLemmatizer()\n",
        "def clean_words(words):\n",
        "  return [lemma.lemmatize(word) for word in words if (re.match('.*\\w+.*',word) != None) and (word not in stopwords.words('english'))]"
      ]
    },
    {
      "cell_type": "code",
      "execution_count": null,
      "metadata": {
        "id": "6hzE5VGMo1JE"
      },
      "outputs": [],
      "source": [
        "def clean_data(source, output):\n",
        "  with open(source) as s:\n",
        "    with open(output,'w') as o:\n",
        "      for line in s:\n",
        "        [word,meaning,prev,actual,after] = re.compile('\\||%%').split(line)\n",
        "        # Turn prev and after into a list of words\n",
        "        prev = ' '.join(clean_words(prev.strip().lower().split(' ')))\n",
        "        after = ' '.join(clean_words(after.strip().lower().split(' ')))\n",
        "        o.write(word + \"|\" + meaning + \"|\" + prev + \"%%\" + actual + \"%%\" + after + \"\\n\")"
      ]
    },
    {
      "cell_type": "code",
      "execution_count": null,
      "metadata": {
        "id": "CwZYcvePo2K1"
      },
      "outputs": [],
      "source": [
        "clean_data('train.data', 'train_clean.data')\n",
        "clean_data('test.data', 'test_clean.data')\n",
        "clean_data('validate.data', 'validate_clean.data')"
      ]
    },
    {
      "cell_type": "code",
      "execution_count": null,
      "metadata": {
        "id": "VgiUhqRdo_cz"
      },
      "outputs": [],
      "source": [
        "def rename_columns(dataset):\n",
        "  rename = dataset.rename(columns = {0:'Target_Word', 1:'Sense_ID', 2:'Context'})\n",
        "  rename = rename.reset_index(drop=True)\n",
        "  return rename"
      ]
    },
    {
      "cell_type": "code",
      "execution_count": null,
      "metadata": {
        "id": "EnGHSwH8pBwn"
      },
      "outputs": [],
      "source": [
        "df_train = pd.read_csv (r'train_clean.data',header=None,delimiter = \"|\")\n",
        "#uncomment when combining train dataset with validation for test prediction\n",
        "#df_train=df_train.reset_index()\n",
        "df_test = pd.read_csv (r'test_clean.data',header=None,delimiter = \"|\")\n",
        "df_test = df_test.reset_index()\n",
        "df_val = pd.read_csv (r'validate_clean.data',header=None,delimiter = \"|\")\n",
        "df_val = df_val.reset_index()"
      ]
    },
    {
      "cell_type": "code",
      "execution_count": null,
      "metadata": {
        "id": "ocU0DFi_pDuJ"
      },
      "outputs": [],
      "source": [
        "train_sp = rename_columns(df_train)\n",
        "test_sp = rename_columns(df_test)\n",
        "val_sp = rename_columns(df_val)"
      ]
    },
    {
      "cell_type": "code",
      "execution_count": null,
      "metadata": {
        "id": "beDldxpBpGCU"
      },
      "outputs": [],
      "source": [
        "test_sp = test_sp.rename(columns = {'index':\"Unique_ID\"})\n",
        "val_sp = val_sp.rename(columns = {'index':\"Unique_ID\"})"
      ]
    },
    {
      "cell_type": "code",
      "execution_count": null,
      "metadata": {
        "id": "lZKlKTU9pH4s"
      },
      "outputs": [],
      "source": [
        "train_sp['Target_Word'] = train_sp.Target_Word.str.replace(' ', '') \n",
        "test_sp['Target_Word'] = test_sp.Target_Word.str.replace(' ', '') \n",
        "val_sp['Target_Word'] = val_sp.Target_Word.str.replace(' ', '')"
      ]
    },
    {
      "cell_type": "markdown",
      "metadata": {
        "id": "K8iONbb6pKRY"
      },
      "source": [
        "# Baseline Model\n",
        "predicts the most frequent sense"
      ]
    },
    {
      "cell_type": "code",
      "execution_count": null,
      "metadata": {
        "id": "GQJuomQ-pK7_"
      },
      "outputs": [],
      "source": [
        "baseline_sp = val_sp\n",
        "#retrieve list of unique target words from validation data\n",
        "TargetWords = baseline_sp['Target_Word'].value_counts()\n",
        "TargetWords = pd.DataFrame(TargetWords)\n",
        "TargetWords = TargetWords.reset_index()\n",
        "TargetWords.columns = ['Words','Count']\n",
        "targets = TargetWords.Words.tolist()\n",
        "# empty dataframe to store predictions\n",
        "Predictions = pd.DataFrame(columns=['Predicted_Sense_ID','Predicted_Sense','Actual_Sense_ID','Unique_ID'])"
      ]
    },
    {
      "cell_type": "code",
      "execution_count": null,
      "metadata": {
        "colab": {
          "base_uri": "https://localhost:8080/"
        },
        "id": "KYcgqEaXpSQ_",
        "outputId": "9cbce2f1-6d4a-4e44-f6a0-4cd588319ac3"
      },
      "outputs": [
        {
          "name": "stdout",
          "output_type": "stream",
          "text": [
            "Baseline accuracy is %s 0.8113612004287245\n"
          ]
        }
      ],
      "source": [
        "# test on validation data\n",
        "\n",
        "cnt = 1\n",
        "for target_word in targets:\n",
        "  cnt += 1            \n",
        "  test_word = val_sp.loc[val_sp['Target_Word'] == target_word]\n",
        "  test_word = test_word.reset_index()\n",
        "                  \n",
        "  unique_ids = test_word['Unique_ID'].tolist()\n",
        "  actual_sense = test_word['Sense_ID'].tolist()\n",
        "                  \n",
        "  #Training_dict,PriorProb=CreateMyTrainData(df_train,target_word)\n",
        "  train_word = train_sp.loc[train_sp['Target_Word']==target_word]\n",
        "\n",
        "  senses = pd.DataFrame(train_word.Sense_ID.value_counts())\n",
        "  senses = senses.reset_index()\n",
        "\n",
        "  #assign mode of the sense_id as a prediction of the target word\n",
        "  predicted = senses[senses.Sense_ID == senses.Sense_ID.max()]['index'].tolist()[0]\n",
        "\n",
        "  k=0\n",
        "  for sent in test_word['Context']:\n",
        "    append_sp = [predicted, sent,actual_sense[k],unique_ids[k]]\n",
        "    k+=1\n",
        "    df_length = len(Predictions)\n",
        "    Predictions.loc[df_length] = append_sp\n",
        "\n",
        "\n",
        "# Accuracy = # of correct predictions / # of total predictions\n",
        "Predictions['Acc']= (Predictions.Predicted_Sense_ID == Predictions.Actual_Sense_ID)\n",
        "baseline_accuracy = Predictions['Acc'].value_counts()/len(Predictions['Acc'])\n",
        "print(\"Baseline accuracy is %s\",str(baseline_accuracy[1]))"
      ]
    },
    {
      "cell_type": "markdown",
      "metadata": {
        "id": "ludcghE3tcoT"
      },
      "source": [
        "# Naive Bayes Model\n",
        "\n",
        "*   Inference model: ouput statistically the most possible sense\n",
        "*   Simplest probabilistic model\n",
        "\n",
        "P (si) = count(si, w)/count(w)\n",
        "\n",
        "P (fj |si) = count(fj , si)/count(si)"
      ]
    },
    {
      "cell_type": "code",
      "execution_count": null,
      "metadata": {
        "id": "DHjLC8SptcGl"
      },
      "outputs": [],
      "source": [
        "# for co-occurrence feature: how many times the word appears\n",
        "simple_cnt = lambda word,i,count: count + 1"
      ]
    },
    {
      "cell_type": "markdown",
      "metadata": {
        "id": "C_XhGcUrcvyw"
      },
      "source": [
        "## Generate Feature Vector"
      ]
    },
    {
      "cell_type": "code",
      "execution_count": null,
      "metadata": {
        "id": "RGrm82Onc1EI"
      },
      "outputs": [],
      "source": [
        "def feature_extract(data='training_clean.data',window_size=-1,colocation=True,co_occurrence=True,co_counts=simple_cnt):\n",
        "  max_after = []\n",
        "  max_prev = []\n",
        "  reg = []\n",
        "  with open(data) as f:\n",
        "    for line in f:            \n",
        "        [word,sense,prev,target,after] = re.compile('\\||%%').split(line)\n",
        "        [word,pos] = word.split('.')\n",
        "        prev = prev.strip().lower().split(' ')\n",
        "        prev.reverse()\n",
        "        after = after.strip().lower().split(' ')\n",
        "        max_after.append(len(after))\n",
        "        max_prev.append(len(prev))\n",
        "        if window_size != -1:\n",
        "          prev = prev[:window_size]\n",
        "          after = after[:window_size]\n",
        "        features = dict()\n",
        "        length = window_size if window_size != -1 else max(len(prev),len(after))\n",
        "        for i in range(length):\n",
        "          if i < len(prev):\n",
        "            if co_occurrence:\n",
        "              #Compute co-occurrence features for previous window\n",
        "              prev_entry = prev[i]\n",
        "              if prev_entry in features:\n",
        "                features[prev_entry] = co_counts(prev[i],i,features[prev_entry])\n",
        "              else: \n",
        "                features[prev_entry] = co_counts(prev[i],i,0)\n",
        "            if colocation:\n",
        "              #Compute co-locational features\n",
        "              features[('prev',i+1)] = prev[i]\n",
        "              text = word_tokenize(prev[i])\n",
        "              tag = pos_tag(text)\n",
        "              if len(tag) != 0:\n",
        "                features[('prev-pos',i+1)] = tag[0][1]\n",
        "          if i < len(after):\n",
        "            if co_occurrence:\n",
        "              #Compute co-occurence features for after window\n",
        "              after_entry = after[i]\n",
        "              if after_entry in features:\n",
        "                  features[after_entry] = co_counts(after[i],i,features[after_entry])\n",
        "              else: \n",
        "                  features[after_entry] = co_counts(after[i],i,0)\n",
        "            if colocation:\n",
        "              #Compute co-locational features\n",
        "              features[('after',i+1)] = after[i]\n",
        "              text = word_tokenize(after[i])\n",
        "              tag = pos_tag(text)\n",
        "              if len(tag) != 0:\n",
        "                features[('after-pos',i+1)] = tag[0][1]\n",
        "        example = (word.strip(),int(sense.strip()),features)\n",
        "        reg.append(example)\n",
        "  return reg"
      ]
    },
    {
      "cell_type": "code",
      "execution_count": null,
      "metadata": {
        "id": "-hiYPrsFdbjx"
      },
      "outputs": [],
      "source": [
        "# output the most probable sense\n",
        "def argmax(pairs):\n",
        "  return max(pairs, key=itemgetter(1))[0]"
      ]
    },
    {
      "cell_type": "markdown",
      "metadata": {
        "id": "Tn9GoPTfdf--"
      },
      "source": [
        "## Model Construction\n",
        "\n",
        "P (si) = count(si, w)/count(w)\n",
        "\n",
        "P (fj |si) = count(fj , si)/count(si)"
      ]
    },
    {
      "cell_type": "markdown",
      "metadata": {
        "id": "i1XKsg4CGips"
      },
      "source": [
        "##  use the log of probability to avoid underflow\n",
        "\n",
        "The probability values are in [0, 1]. Hence multiplying two or more such small numbers could easily lead to an underflow in a floating point precision arithmetic (e.g. consider multiplying 0.0001*0.00001). A practical solution is to use the logs to get rid of the underflow."
      ]
    },
    {
      "cell_type": "code",
      "execution_count": null,
      "metadata": {
        "id": "CqcUWO72ddo9"
      },
      "outputs": [],
      "source": [
        "class Supervised_WSD():\n",
        "  def __init__(self, traindata, max_eg=-1):\n",
        "    self.sense_cnt = dict()\n",
        "    self.word_cnt = dict()\n",
        "    self.feature_cnt = dict()\n",
        "    self.featurelists = dict()\n",
        "    # Generating necessary counts\n",
        "    for example in traindata:\n",
        "      word = example[0]\n",
        "      sense = example[1]\n",
        "      features = example[2]\n",
        "      if (max_eg == -1) or (word not in self.word_cnt) or (sense not in self.sense_cnt[word]) or (max_eg != -1 and max_eg > self.sense_cnt[word][sense]):\n",
        "        if word in self.word_cnt:\n",
        "          self.word_cnt[word] += 1\n",
        "        else:\n",
        "          self.word_cnt[word] = 1\n",
        "        if word in self.sense_cnt:\n",
        "          if sense in self.sense_cnt[word]:\n",
        "            self.sense_cnt[word][sense] += 1\n",
        "          else:\n",
        "            self.sense_cnt[word][sense] = 1\n",
        "        else:\n",
        "          self.sense_cnt[word] = dict()\n",
        "          self.sense_cnt[word][sense] = 1\n",
        "        for key,value in features.items():\n",
        "          if word not in self.featurelists:\n",
        "            self.featurelists[word] = set()\n",
        "          self.featurelists[word].add(key)\n",
        "          if (word, sense) in self.feature_cnt:\n",
        "            if key in self.feature_cnt[(word,sense)]:\n",
        "              if value in self.feature_cnt[(word,sense)][key]:\n",
        "                self.feature_cnt[(word,sense)][key][value] += 1\n",
        "              else:\n",
        "                self.feature_cnt[(word,sense)][key][value] = 1\n",
        "            else:\n",
        "              self.feature_cnt[(word,sense)][key] = dict()\n",
        "              self.feature_cnt[(word,sense)][key][value] = 1\n",
        "          else:\n",
        "              self.feature_cnt[(word,sense)] = dict()\n",
        "              self.feature_cnt[(word,sense)][key] = dict()\n",
        "              self.feature_cnt[(word,sense)][key][value] = 1\n",
        "\n",
        "  # k: add-k smoothing\n",
        "  def classifier(self,testdata,k=1,softscore=False):\n",
        "      predictions = []\n",
        "      actual = []\n",
        "      correct = 0\n",
        "      for example in testdata:\n",
        "          word = example[0]\n",
        "          actual.append(example[1])\n",
        "          features = example[2]\n",
        "          probs = []\n",
        "          if word in self.word_cnt:\n",
        "              wc = self.word_cnt[word]\n",
        "              for sense in self.sense_cnt[word]:\n",
        "                  sc = self.sense_cnt[word][sense]\n",
        "                  prob = 0.0\n",
        "                  if word in self.featurelists:\n",
        "                      for key in self.featurelists[word]:\n",
        "                          fp = 0.0\n",
        "                          if key in features:\n",
        "                              value = features[key]\n",
        "                              if key in self.feature_cnt[(word,sense)]:\n",
        "                                  #Are there any of the value in this test example in our training examples\n",
        "                                  if value in self.feature_cnt[(word,sense)][key]:\n",
        "                                      fp = math.log((self.feature_cnt[(word,sense)][key][value] + k) / float(sc+k*len(self.featurelists[word])))\n",
        "                                  #if not, use add one smoothing to avoid zero probability\n",
        "                                  else:\n",
        "                                      fp = math.log(k/float(sc+k*len(self.featurelists[word])))\n",
        "                              #If it doesn't then using add 1 smoothing compute probability\n",
        "                              else:\n",
        "                                  fp = math.log(k/float(sc+k*len(self.featurelists[word])))\n",
        "                          # feature is 0/null in example\n",
        "                          else:\n",
        "                              if key in self.feature_cnt[(word,sense)]:\n",
        "                                  fp = math.log((sc-sum(self.feature_cnt[(word,sense)][key].values())+k) / float(sc+k*len(self.featurelists[word])))\n",
        "                              else:\n",
        "                                  fp = math.log((sc + k) / float(sc+k*len(self.featurelists[word])))\n",
        "                          prob += fp\n",
        "                  probs.append((sense,prob))\n",
        "              res = None\n",
        "              if softscore == True:\n",
        "              # separate out the senses and the probabilities into 2 lists\n",
        "                senses = [item[0] for item in probs]\n",
        "                prob_numbers = [item[1] for item in probs]\n",
        "                # senses = list(zip(*probs)[0])\n",
        "                # prob_numbers = list(zip(*probs)[1])\n",
        "                #Adjust probabilities by maximum log to avoid underflow if possible when normalizing. \n",
        "                m_log = max(prob_numbers)\n",
        "                prob_numbers = [math.e**(x-m_log) for x in prob_numbers]\n",
        "                prob_sum = sum(prob_numbers)\n",
        "                prob_numbers = [x/prob_sum for x in prob_numbers]\n",
        "                probs = list(zip(senses, prob_numbers))\n",
        "                res = argmax(probs)\n",
        "                probs = dict(probs)\n",
        "                if example[1] in probs:\n",
        "                  correct = correct if res != example[1] else correct+1\n",
        "              else:\n",
        "                  res = argmax(probs)\n",
        "                  correct = correct if res != example[1] else correct+1\n",
        "              predictions.append(res)\n",
        "          else:\n",
        "              predictions.append(-1)\n",
        "      accuracy = correct/float(len(predictions))\n",
        "      return (accuracy,zip(actual,predictions))\n",
        "\n",
        "  def statistics(self):\n",
        "    print(np.median(self.wordCounts.values()))\n",
        "    print(max(self.wordCounts.values()))\n",
        "    print(np.mean(self.wordCounts.values()))\n",
        "    print(min(self.wordCounts.values()))"
      ]
    },
    {
      "cell_type": "markdown",
      "metadata": {
        "id": "xBMPTu8j-IG3"
      },
      "source": [
        "# Hard-Score"
      ]
    },
    {
      "cell_type": "markdown",
      "metadata": {
        "id": "TO1y5Zip_GKg"
      },
      "source": [
        "## Size of window: 1-100 with add 1/ add k smoothing"
      ]
    },
    {
      "cell_type": "markdown",
      "metadata": {
        "id": "xbnovnfUEyQX"
      },
      "source": [
        "## Add 1"
      ]
    },
    {
      "cell_type": "code",
      "execution_count": null,
      "metadata": {
        "id": "hqVUVO2GSm8H"
      },
      "outputs": [],
      "source": [
        "def hard_scoring():\n",
        "  windows = [1,10,30,50,70,90,100]\n",
        "  with open('hard-scoring-compare.csv','a') as f:\n",
        "    for i in windows:\n",
        "      start = time.time()\n",
        "      nb_coo = Supervised_WSD(feature_extract(data='train_clean.data', window_size=i,co_occurrence=True,colocation=False))\n",
        "      res_coo = nb_coo.classifier(feature_extract(data='validate_clean.data', window_size=i,co_occurrence=True,colocation=False))\n",
        "      nb_col = Supervised_WSD(feature_extract(data='train_clean.data', window_size=i, co_occurrence=False,colocation=True))\n",
        "      res_col = nb_col.classifier(feature_extract(data='validate_clean.data', window_size=i,co_occurrence=False,colocation=True))\n",
        "      f.write(str(i) + \",\" + str(res_coo[0]) + \",\" + str(res_col[0]) + \"\\n\")\n",
        "      f.flush()"
      ]
    },
    {
      "cell_type": "code",
      "execution_count": null,
      "metadata": {
        "id": "DOLuIr15THsq"
      },
      "outputs": [],
      "source": [
        "hard_compare = hard_scoring()"
      ]
    },
    {
      "cell_type": "code",
      "source": [
        "hard_compare_plot = pd.read_csv (r'hard-scoring-compare.csv',header=None)\n",
        "windowsize = hard_compare_plot[0].tolist()\n",
        "coo = hard_compare_plot[1].tolist()\n",
        "col = hard_compare_plot[2].tolist()"
      ],
      "metadata": {
        "id": "gggFWLbqVK3U"
      },
      "execution_count": null,
      "outputs": []
    },
    {
      "cell_type": "code",
      "source": [
        "hard_compare_plot = hard_compare_plot.rename(columns = {0:'Windowsize', 1:'Co_occurrence', 2:'Colocation'})\n",
        "hard_compare_plot.to_csv('hard-scoring-compare-add1.csv')"
      ],
      "metadata": {
        "id": "nfUWxZLAWDI6"
      },
      "execution_count": null,
      "outputs": []
    },
    {
      "cell_type": "code",
      "source": [
        "import matplotlib.pyplot as plt\n",
        "\n",
        "plt.plot(windowsize, coo, label='co-occurence')\n",
        "plt.plot(windowsize, col, label='co-locational')\n",
        "plt.title('Size of window vs. Accuracy')\n",
        "plt.ylabel('Accuracy')\n",
        "plt.xlabel('Size of window')\n",
        "plt.legend()\n",
        "plt.show()"
      ],
      "metadata": {
        "colab": {
          "base_uri": "https://localhost:8080/",
          "height": 294
        },
        "id": "7jHtIz3JMQeQ",
        "outputId": "9cf07972-c3a1-4a80-bb4d-3c0c5e7c5dc5"
      },
      "execution_count": null,
      "outputs": [
        {
          "output_type": "display_data",
          "data": {
            "text/plain": [
              "<Figure size 432x288 with 1 Axes>"
            ],
            "image/png": "[encoded data removed]"
          },
          "metadata": {
            "needs_background": "light"
          }
        }
      ]
    },
    {
      "cell_type": "markdown",
      "metadata": {
        "id": "vtdKwQf8UXH9"
      },
      "source": [
        "## Add k"
      ]
    },
    {
      "cell_type": "code",
      "source": [
        "def hard_scoring():\n",
        "  windows = [1,10,30,50,70,90,100]\n",
        "  k = [0.001,0.01,0.1,1]\n",
        "  with open('hard-scoring-compare-addk.csv','a') as f:\n",
        "    for i in windows:\n",
        "      for j in k:\n",
        "        start = time.time()\n",
        "        nb_coo = Supervised_WSD(feature_extract(data='train_clean.data', window_size=i,co_occurrence=True,colocation=False))\n",
        "        res_coo = nb_coo.classifier(feature_extract(data='validate_clean.data', window_size=i,co_occurrence=True,colocation=False),k=j)\n",
        "        nb_col = Supervised_WSD(feature_extract(data='train_clean.data', window_size=i, co_occurrence=False,colocation=True))\n",
        "        res_col = nb_col.classifier(feature_extract(data='validate_clean.data', window_size=i,co_occurrence=False,colocation=True),k=j)\n",
        "        f.write(str(i) + \",\" + str(j) + \",\" + str(res_coo[0]) + \",\" + str(res_col[0]) + \"\\n\")\n",
        "        f.flush()"
      ],
      "metadata": {
        "id": "3i1knVZcJj9r"
      },
      "execution_count": null,
      "outputs": []
    },
    {
      "cell_type": "code",
      "source": [
        "hard_compare_addk = hard_scoring()"
      ],
      "metadata": {
        "id": "PqM8X1f5J9D6"
      },
      "execution_count": null,
      "outputs": []
    },
    {
      "cell_type": "code",
      "source": [
        "hard_comparek_plot = pd.read_csv (r'hard-scoring-compare-addk.csv',header=None)\n",
        "windowsize_hardk = hard_comparek_plot[0].tolist()\n",
        "coo_hardk = hard_comparek_plot[1].tolist()\n",
        "col_hardk = hard_comparek_plot[2].tolist()"
      ],
      "metadata": {
        "id": "9MJzby9EBkuS"
      },
      "execution_count": null,
      "outputs": []
    },
    {
      "cell_type": "code",
      "source": [
        "hard_comparek_plot = hard_comparek_plot.rename(columns = {0:'Windowsize',1:'Add-k-smoothing', 2:'Co_occurrence', 3:'Colocation'})\n",
        "hard_comparek_plot.to_csv('hard-scoring-compare-addk.csv')"
      ],
      "metadata": {
        "id": "CJmV-iY8B8_D"
      },
      "execution_count": null,
      "outputs": []
    },
    {
      "cell_type": "code",
      "source": [
        "hard_addk =pd.read_csv (r'hard-scoring-compare-addk.csv',header=None)"
      ],
      "metadata": {
        "id": "-dJYaUky5RLN"
      },
      "execution_count": null,
      "outputs": []
    },
    {
      "cell_type": "code",
      "source": [
        "hard_addk = hard_addk.iloc[1:]"
      ],
      "metadata": {
        "id": "A1PhylXn5bfG"
      },
      "execution_count": null,
      "outputs": []
    },
    {
      "cell_type": "code",
      "source": [
        "hard_coo = hard_addk[3].tolist()"
      ],
      "metadata": {
        "id": "1VR-NWtf5gbA"
      },
      "execution_count": null,
      "outputs": []
    },
    {
      "cell_type": "code",
      "source": [
        "hard_coo_addk = []\n",
        "for i in hard_coo:\n",
        "  i = float(i)\n",
        "  i = '%.2f' % i\n",
        "  hard_coo_addk.append(i)"
      ],
      "metadata": {
        "id": "LeZ3gp7u5lMo"
      },
      "execution_count": null,
      "outputs": []
    },
    {
      "cell_type": "code",
      "source": [
        "hard_col = hard_addk[4].tolist()"
      ],
      "metadata": {
        "id": "TNeWiW2t5p8J"
      },
      "execution_count": null,
      "outputs": []
    },
    {
      "cell_type": "code",
      "source": [
        "hard_col_addk = []\n",
        "for i in hard_col:\n",
        "  i = float(i)\n",
        "  i = '%.2f' % i\n",
        "  hard_col_addk.append(i)"
      ],
      "metadata": {
        "id": "4fI1H1lS5sS4"
      },
      "execution_count": null,
      "outputs": []
    },
    {
      "cell_type": "code",
      "source": [
        "windowsize_hard_add = hard_addk[1].tolist()"
      ],
      "metadata": {
        "id": "rsLDduOI599z"
      },
      "execution_count": null,
      "outputs": []
    },
    {
      "cell_type": "code",
      "source": [
        "import matplotlib.pyplot as plt\n",
        "plt.plot(windowsize_hard_add, hard_coo_addk, label='co-occurence')\n",
        "plt.plot(windowsize_hard_add, hard_col_addk, label='co-locational')\n",
        "plt.title('Size of window vs. Accuracy')\n",
        "plt.ylabel('Accuracy')\n",
        "plt.xlabel('Size of window')\n",
        "ax = plt.gca()\n",
        "ax.invert_yaxis()\n",
        "plt.legend()\n",
        "plt.show()"
      ],
      "metadata": {
        "colab": {
          "base_uri": "https://localhost:8080/",
          "height": 294
        },
        "id": "gip4NI3M532t",
        "outputId": "b2edea68-629f-4510-8f33-d6a3793dbca1"
      },
      "execution_count": null,
      "outputs": [
        {
          "output_type": "display_data",
          "data": {
            "text/plain": [
              "<Figure size 432x288 with 1 Axes>"
            ],
            "image/png": "[encoded data removed]"
          },
          "metadata": {
            "needs_background": "light"
          }
        }
      ]
    },
    {
      "cell_type": "markdown",
      "metadata": {
        "id": "sjd2kiYJGMJy"
      },
      "source": [
        "# Soft-scoring"
      ]
    },
    {
      "cell_type": "markdown",
      "metadata": {
        "id": "HvtCYPE5GSHf"
      },
      "source": [
        "## Size of window: 1-100 with add 1/ add k smoothing"
      ]
    },
    {
      "cell_type": "markdown",
      "source": [
        "## Add 1"
      ],
      "metadata": {
        "id": "8Fj3aSXXj64Q"
      }
    },
    {
      "cell_type": "code",
      "execution_count": null,
      "metadata": {
        "id": "x2ocbHlyKYsE"
      },
      "outputs": [],
      "source": [
        "def soft_scoring():\n",
        "  windows = [1,10,30,50,70,90,100]\n",
        "  with open('soft-scoring-compare.csv','a') as f:\n",
        "    for i in windows:\n",
        "      start = time.time()\n",
        "      nb_coo = Supervised_WSD(feature_extract(data='train_clean.data', window_size=i,co_occurrence=True,colocation=False))\n",
        "      res_coo = nb_coo.classifier(feature_extract(data='validate_clean.data', window_size=i,co_occurrence=True,colocation=False), softscore=True)\n",
        "      nb_col = Supervised_WSD(feature_extract(data='train_clean.data', window_size=i, co_occurrence=False,colocation=True))\n",
        "      res_col = nb_col.classifier(feature_extract(data='validate_clean.data', window_size=i,co_occurrence=False,colocation=True), softscore=True)\n",
        "      f.write(str(i) + \",\" + str(res_coo[0]) + \",\" + str(res_col[0]) + \"\\n\")\n",
        "      f.flush()"
      ]
    },
    {
      "cell_type": "code",
      "execution_count": null,
      "metadata": {
        "id": "JNUo9sn0Su1i"
      },
      "outputs": [],
      "source": [
        "soft_compare = soft_scoring()"
      ]
    },
    {
      "cell_type": "code",
      "source": [
        "soft_compare_plot = pd.read_csv (r'soft-scoring-compare.csv',header=None)\n",
        "windowsize_soft = soft_compare_plot[0].tolist()\n",
        "coo_soft = soft_compare_plot[1].tolist()\n",
        "col_soft = soft_compare_plot[2].tolist()"
      ],
      "metadata": {
        "id": "pTkB7RcmgBBT"
      },
      "execution_count": null,
      "outputs": []
    },
    {
      "cell_type": "code",
      "source": [
        "soft_compare_add_plot = soft_compare_plot.rename(columns = {0:'Windowsize', 1:'Co_occurrence', 2:'Colocation'})\n",
        "soft_compare_add_plot.to_csv('soft-scoring-compare-addk.csv')"
      ],
      "metadata": {
        "id": "hWgRMdgDD1OR"
      },
      "execution_count": null,
      "outputs": []
    },
    {
      "cell_type": "code",
      "source": [
        "plt.plot(windowsize_soft, coo_soft, label='co-occurence')\n",
        "plt.plot(windowsize_soft, col_soft, label='co-locational')\n",
        "plt.title('Size of window vs. Accuracy')\n",
        "plt.ylabel('Accuracy')\n",
        "plt.xlabel('Size of window')\n",
        "plt.legend()\n",
        "plt.show()"
      ],
      "metadata": {
        "colab": {
          "base_uri": "https://localhost:8080/",
          "height": 294
        },
        "id": "XkGaOxGBf50i",
        "outputId": "d1c2c9f4-e3ec-4bb8-d82d-0cf72d900d2e"
      },
      "execution_count": null,
      "outputs": [
        {
          "output_type": "display_data",
          "data": {
            "text/plain": [
              "<Figure size 432x288 with 1 Axes>"
            ],
            "image/png": "[encoded data removed]"
          },
          "metadata": {
            "needs_background": "light"
          }
        }
      ]
    },
    {
      "cell_type": "markdown",
      "source": [
        "## Add-k"
      ],
      "metadata": {
        "id": "NPJlTdqJlSVX"
      }
    },
    {
      "cell_type": "code",
      "source": [
        "def soft_scoring():\n",
        "  windows = [1,10,30,50,70,90,100]\n",
        "  k = [0.001,0.01,0.1,1]\n",
        "  with open('soft-scoring-compare-addk.csv','a') as f:\n",
        "    for i in windows:\n",
        "      for j in k:\n",
        "        start = time.time()\n",
        "        nb_coo = Supervised_WSD(feature_extract(data='train_clean.data', window_size=i,co_occurrence=True,colocation=False))\n",
        "        res_coo = nb_coo.classifier(feature_extract(data='validate_clean.data', window_size=i,co_occurrence=True,colocation=False),k=j,softscore=True)\n",
        "        nb_col = Supervised_WSD(feature_extract(data='train_clean.data', window_size=i, co_occurrence=False,colocation=True))\n",
        "        res_col = nb_col.classifier(feature_extract(data='validate_clean.data', window_size=i,co_occurrence=False,colocation=True),k=j,softscore=True)\n",
        "        f.write(str(i) + \",\" + str(j) + \",\" + str(res_coo[0]) + \",\" + str(res_col[0]) + \"\\n\")\n",
        "        f.flush()"
      ],
      "metadata": {
        "id": "170FsdDGlUqK"
      },
      "execution_count": null,
      "outputs": []
    },
    {
      "cell_type": "code",
      "source": [
        "soft_compare_addk = soft_scoring()"
      ],
      "metadata": {
        "id": "g7Y-ZaTsloER"
      },
      "execution_count": null,
      "outputs": []
    },
    {
      "cell_type": "code",
      "source": [
        "soft_compare_addk_plot = pd.read_csv (r'soft-scoring-compare-addk.csv',header=None)\n",
        "windowsize_soft_add = soft_compare_addk_plot[0].tolist()\n",
        "coo_soft_add = soft_compare_addk_plot[3].tolist()\n",
        "col_soft_add = soft_compare_addk_plot[4].tolist()"
      ],
      "metadata": {
        "id": "sPOke-ChmAI4"
      },
      "execution_count": null,
      "outputs": []
    },
    {
      "cell_type": "code",
      "source": [
        "soft_compare_addk_plot = soft_compare_addk_plot.rename(columns = {0:'Windowsize', 1:'Add_k_smoothing', 2:'Co_occurrence', 3:'Colocation'})\n",
        "soft_compare_addk_plot.to_csv('soft-scoring-compare-addk.csv')"
      ],
      "metadata": {
        "id": "zfPWsPucmmJl"
      },
      "execution_count": null,
      "outputs": []
    },
    {
      "cell_type": "code",
      "source": [
        "soft_addk =pd.read_csv (r'soft-scoring-compare-addk.csv',header=None)"
      ],
      "metadata": {
        "id": "LJXMdWbLze61"
      },
      "execution_count": null,
      "outputs": []
    },
    {
      "cell_type": "code",
      "source": [
        "soft_addk = soft_addk.iloc[1:]"
      ],
      "metadata": {
        "id": "YRgdb1CZ0ASX"
      },
      "execution_count": null,
      "outputs": []
    },
    {
      "cell_type": "code",
      "source": [
        "soft_coo = soft_addk[3].tolist()"
      ],
      "metadata": {
        "id": "CIrKlCWK0Dkr"
      },
      "execution_count": null,
      "outputs": []
    },
    {
      "cell_type": "code",
      "source": [
        "soft_coo_addk = []\n",
        "for i in soft_coo:\n",
        "  i = float(i)\n",
        "  i = '%.2f' % i\n",
        "  soft_coo_addk.append(i)"
      ],
      "metadata": {
        "id": "tKjeeEZK1JlR"
      },
      "execution_count": null,
      "outputs": []
    },
    {
      "cell_type": "code",
      "source": [
        "soft_col = soft_addk[4].tolist()"
      ],
      "metadata": {
        "id": "qrJtb0Hn1jNd"
      },
      "execution_count": null,
      "outputs": []
    },
    {
      "cell_type": "code",
      "source": [
        "soft_col_addk = []\n",
        "for i in soft_col:\n",
        "  i = float(i)\n",
        "  i = '%.2f' % i\n",
        "  soft_col_addk.append(i)"
      ],
      "metadata": {
        "id": "b6mD2x_z1oRJ"
      },
      "execution_count": null,
      "outputs": []
    },
    {
      "cell_type": "code",
      "source": [
        "windowsize_soft_add = soft_addk[1].tolist()"
      ],
      "metadata": {
        "id": "QvI4KIPV15CJ"
      },
      "execution_count": null,
      "outputs": []
    },
    {
      "cell_type": "code",
      "source": [
        "import matplotlib.pyplot as plt\n",
        "plt.plot(windowsize_soft_add, soft_coo_addk, label='co-occurence')\n",
        "plt.plot(windowsize_soft_add, soft_col_addk, label='co-locational')\n",
        "plt.title('Size of window vs. Accuracy')\n",
        "plt.ylabel('Accuracy')\n",
        "plt.xlabel('Size of window')\n",
        "ax = plt.gca()\n",
        "ax.invert_yaxis()\n",
        "plt.legend()\n",
        "plt.show()"
      ],
      "metadata": {
        "colab": {
          "base_uri": "https://localhost:8080/",
          "height": 294
        },
        "id": "j2nvK3cDCiq8",
        "outputId": "df6e860a-8eae-40e7-8dad-cf766b218e1a"
      },
      "execution_count": null,
      "outputs": [
        {
          "output_type": "display_data",
          "data": {
            "text/plain": [
              "<Figure size 432x288 with 1 Axes>"
            ],
            "image/png": "[encoded data removed]"
          },
          "metadata": {
            "needs_background": "light"
          }
        }
      ]
    }
  ],
  "metadata": {
    "colab": {
      "provenance": [],
      "collapsed_sections": []
    },
    "kernelspec": {
      "display_name": "Python 3",
      "name": "python3"
    },
    "language_info": {
      "name": "python"
    }
  },
  "nbformat": 4,
  "nbformat_minor": 0
}